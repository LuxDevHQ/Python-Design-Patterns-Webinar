{
 "cells": [
  {
   "cell_type": "code",
   "execution_count": 79,
   "id": "bd69912b-e6eb-483e-ba48-3f8ff9137ced",
   "metadata": {},
   "outputs": [],
   "source": [
    "from typing import List\n",
    "from utils import Reader, Logger, Parser\n",
    "from utils import Repository, Mapper, Validator"
   ]
  },
  {
   "cell_type": "markdown",
   "id": "b3e4bc81-b655-48df-af47-14a10f4ed7d6",
   "metadata": {},
   "source": [
    "## Implementations"
   ]
  },
  {
   "cell_type": "code",
   "execution_count": 80,
   "id": "3d07ae9b-4390-492d-8dd1-4a8da16b15b8",
   "metadata": {},
   "outputs": [],
   "source": [
    "class FileLogger(Logger):\n",
    "        def __init__(self, filename):\n",
    "            self.filename = filename\n",
    "\n",
    "        def log(self, message):\n",
    "             with open(self.filename, 'a') as f:\n",
    "                    f.write(f'{message}\\n')\n"
   ]
  },
  {
   "cell_type": "code",
   "execution_count": 81,
   "id": "1586fae7-e236-48f2-b5e0-f9b9a326c3cb",
   "metadata": {},
   "outputs": [],
   "source": [
    "class FileRepo(Repository):\n",
    "        def __init__(self, filename):\n",
    "            self.filename = filename\n",
    "\n",
    "        def store_records(self, records):\n",
    "             with open(self.filename, 'a') as f:\n",
    "                for record in records:\n",
    "                    f.write(f'{record}\\n')\n"
   ]
  },
  {
   "cell_type": "code",
   "execution_count": 82,
   "id": "0304f878-7b9a-4806-bff1-68ae40300c86",
   "metadata": {},
   "outputs": [],
   "source": [
    "class Customer:\n",
    "        def __init__(self, id, loc, product, amount):\n",
    "            self.id = id\n",
    "            self.loc = loc\n",
    "            self.product = product\n",
    "            self.amount = amount\n",
    "\n",
    "        def __str__(self):\n",
    "            return f'[{self.id}, {self.loc}, {self.product}, {self.amount}]'"
   ]
  },
  {
   "cell_type": "code",
   "execution_count": 83,
   "id": "fa92ae03-ddae-4961-ac23-622d82839a01",
   "metadata": {},
   "outputs": [],
   "source": [
    "class CustomerMapper(Mapper):\n",
    "        def map(self, processed_record: List[str]):\n",
    "            id = processed_record[0]\n",
    "            location = processed_record[1]\n",
    "            product = processed_record[2]\n",
    "            amount = float(processed_record[3])\n",
    "            customer = Customer(id, location,product, amount)\n",
    "            return customer"
   ]
  },
  {
   "cell_type": "code",
   "execution_count": 84,
   "id": "720773f1-8fa4-4d8d-935e-1538d8747358",
   "metadata": {},
   "outputs": [],
   "source": [
    "class UnderscoreParser(Parser):\n",
    "        def __init__(self, validator: Validator, mapper: Mapper):\n",
    "            Parser.__init__(self, validator, mapper)\n",
    "\n",
    "        def parse(self, record: str)-> List[str]:\n",
    "            return record.split('_')"
   ]
  },
  {
   "cell_type": "code",
   "execution_count": 85,
   "id": "47b1f4bd-6b09-4631-82dd-2790b2947526",
   "metadata": {},
   "outputs": [],
   "source": [
    "class FileReader(Reader):\n",
    "        def __init__(self, filename):\n",
    "            self.filename = filename\n",
    "            \n",
    "        def read_data(self):\n",
    "            trade_records: List[str] = []\n",
    "            with open(self.filename) as data_source:\n",
    "                for trade_record in data_source: \n",
    "                    trade_records.append(trade_record.rstrip())\n",
    "            return trade_records"
   ]
  },
  {
   "cell_type": "markdown",
   "id": "b2658a0f-dd0b-4b9d-826b-3f9e30b04d42",
   "metadata": {},
   "source": [
    "Third party class"
   ]
  },
  {
   "cell_type": "code",
   "execution_count": 86,
   "id": "f52164d0-5b47-40f4-a8c4-1de3cd0afd50",
   "metadata": {},
   "outputs": [],
   "source": [
    "class FancyValidator:\n",
    "    def approve(self, word: str):\n",
    "        if len(word) == 10:\n",
    "            if word.isalnum():\n",
    "                return True\n",
    "            else: \n",
    "                return False\n",
    "        else:\n",
    "            return False\n",
    "            \n",
    "    def isword(self, loc: str):\n",
    "        if loc.isalpha():\n",
    "                return True\n",
    "        else: \n",
    "                return False\n",
    "            \n",
    "    def isnumber(self, number: str):\n",
    "        if number.isdigit():\n",
    "            return True\n",
    "        else:\n",
    "            return False"
   ]
  },
  {
   "cell_type": "markdown",
   "id": "c10d83cb-c4d7-43bd-8709-8afcf4895416",
   "metadata": {},
   "source": [
    "Adapter class"
   ]
  },
  {
   "cell_type": "code",
   "execution_count": 87,
   "id": "e6caaddb-ed61-4d78-9dcb-a9838578cee9",
   "metadata": {},
   "outputs": [],
   "source": [
    "class Adapter(Validator):\n",
    "    def __init__(self, logger: Logger, adaptee: FancyValidator):\n",
    "        self.logger = logger\n",
    "        self.adaptee = adaptee\n",
    "        \n",
    "        \n",
    "    def validate(self, record: List[str], index: int) -> bool:\n",
    "        if len(record) != 4: #check number of fields\n",
    "            self.logger.log(f'Line {index} malformed. Only {len(record)} field(s) found.')\n",
    "            return False\n",
    "        if not self.adaptee.approve(record[0]): #check id\n",
    "            self.logger.log(f'Id on line {index} malformed: {record[0]}')\n",
    "            return False\n",
    "        if not self.adaptee.isword(record[1]): #check location\n",
    "            self.logger.log(f\"Location on {index} is invalid: '{record[1]}'\")\n",
    "            return False\n",
    "        if not self.adaptee.isword(record[2]): #check product\n",
    "            self.logger.log(f\"Product name on {index} is invalid: '{record[2]}'\")\n",
    "            return False\n",
    "        if not self.adaptee.isnumber(record[3]):\n",
    "            self.logger.log(f'Amount on line {index} not a valid int:{record[3]}')\n",
    "            return False\n",
    "        return True"
   ]
  },
  {
   "cell_type": "code",
   "execution_count": 88,
   "id": "5309a92d-e510-42e1-9cd6-194a7b7af89b",
   "metadata": {},
   "outputs": [],
   "source": [
    "class TradeProcessor:\n",
    "    def __init__(self,reader: Reader, parser: Parser, repo: Repository) -> None:\n",
    "        self.reader = reader\n",
    "        self.parser = parser\n",
    "        self.repo = repo\n",
    "\n",
    "    def process_trades(self):\n",
    "        lines = self.reader.read_data()\n",
    "        trades = self.parser.parse_trades(lines)\n",
    "        self.repo.store_records(trades)"
   ]
  },
  {
   "cell_type": "code",
   "execution_count": 89,
   "id": "999a7168-b5c3-44c1-8358-c1b4acc46976",
   "metadata": {},
   "outputs": [],
   "source": [
    "mapper = CustomerMapper()\n",
    "logger = FileLogger('run.log')\n",
    "\n",
    "fancy_validator = FancyValidator()\n",
    "validator = Adapter(logger, fancy_validator)\n",
    "parser = UnderscoreParser(validator, mapper)\n",
    "\n",
    "repo = FileRepo('store.txt')\n",
    "\n",
    "reader = FileReader('Data2.txt')\n",
    "tradeProcessor = TradeProcessor(reader, parser, repo)\n",
    "tradeProcessor.process_trades()"
   ]
  },
  {
   "cell_type": "code",
   "execution_count": null,
   "id": "7cd7b2f6-f518-4c4c-aebe-155f0d1bdb69",
   "metadata": {},
   "outputs": [],
   "source": []
  }
 ],
 "metadata": {
  "kernelspec": {
   "display_name": "Python 3",
   "language": "python",
   "name": "python3"
  },
  "language_info": {
   "codemirror_mode": {
    "name": "ipython",
    "version": 3
   },
   "file_extension": ".py",
   "mimetype": "text/x-python",
   "name": "python",
   "nbconvert_exporter": "python",
   "pygments_lexer": "ipython3",
   "version": "3.8.8"
  },
  "toc-autonumbering": false
 },
 "nbformat": 4,
 "nbformat_minor": 5
}
