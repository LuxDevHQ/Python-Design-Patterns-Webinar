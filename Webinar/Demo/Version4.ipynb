{
 "cells": [
  {
   "cell_type": "code",
   "execution_count": null,
   "id": "b3534bd5-8ad0-4eb9-a290-602b470cd8c7",
   "metadata": {},
   "outputs": [],
   "source": [
    "from typing import List\n",
    "from abc import ABC, abstractmethod\n",
    "from sqlalchemy import create_engine, Column, Integer, String, Float\n",
    "from sqlalchemy.ext.declarative import declarative_base\n",
    "from sqlalchemy.orm import sessionmaker\n",
    "Base = declarative_base()"
   ]
  },
  {
   "cell_type": "code",
   "execution_count": null,
   "id": "66a39f8b-5647-4b91-9401-6cad670396c0",
   "metadata": {},
   "outputs": [],
   "source": [
    "class TradeRecord(Base):\n",
    "    __tablename__ = 'TradeRecord'\n",
    "    id = Column(Integer, primary_key=True)\n",
    "    source_currency = Column(String)\n",
    "    dest_currency = Column(String)\n",
    "    amount = Column(Integer)\n",
    "    price = Column(Float)\n",
    "\n",
    "    def __init__(self, source, dest, amount, price):\n",
    "        self.source_currency = source\n",
    "        self.dest_currency = dest\n",
    "        self.amount = amount\n",
    "        self.price = price\n",
    "        \n",
    "    def __str__(self):\n",
    "        return f'{self.source_currency}, {self.dest_currency}, {self.amount}, {self.price}'"
   ]
  },
  {
   "cell_type": "markdown",
   "id": "2e121c17-a74d-4235-a04a-4b6e2d73018e",
   "metadata": {},
   "source": [
    "## Abstractions"
   ]
  },
  {
   "cell_type": "code",
   "execution_count": null,
   "id": "2c079614-e929-4b45-adfe-d1ab1ef8aabb",
   "metadata": {},
   "outputs": [],
   "source": [
    "class Logger(ABC):\n",
    "    @abstractmethod\n",
    "    def log(self, message):\n",
    "        pass"
   ]
  },
  {
   "cell_type": "code",
   "execution_count": null,
   "id": "ea60deba-4bad-44f7-9434-80ed722013f3",
   "metadata": {},
   "outputs": [],
   "source": [
    "class Mapper(ABC):\n",
    "        @abstractmethod\n",
    "        def map(self, fields: List[str]):\n",
    "            pass"
   ]
  },
  {
   "cell_type": "code",
   "execution_count": null,
   "id": "19c18451-cf80-4b16-8d9a-773e3842f867",
   "metadata": {},
   "outputs": [],
   "source": [
    "class Validator(ABC):\n",
    "    def __init__(self, logger: Logger):\n",
    "        self.logger = logger\n",
    "\n",
    "    @abstractmethod\n",
    "    def validate(self, fields: List[str], record_line: int) -> bool:\n",
    "        pass"
   ]
  },
  {
   "cell_type": "code",
   "execution_count": null,
   "id": "4c74da88-cbc9-4613-9bf4-f988ca295791",
   "metadata": {},
   "outputs": [],
   "source": [
    "from abc import ABC, abstractmethod\n",
    "\n",
    "class Parser(ABC):\n",
    "    def __init__(self, validator: Validator, mapper: Mapper):\n",
    "        self.validator = validator\n",
    "        self.mapper = mapper\n",
    "\n",
    "    def parse_trades(self, trade_data: List[str]):\n",
    "        trades: T = []\n",
    "        for index, record in enumerate(trade_data):\n",
    "            fields = self.parse(record)\n",
    "            if not self.validator.validate(fields, index + 1):\n",
    "                continue\n",
    "            trade = self.mapper.map(fields)\n",
    "            trades.append(trade)\n",
    "        return trades\n",
    "\n",
    "    @abstractmethod\n",
    "    def parse(self, record: str) -> List[str]:\n",
    "        pass"
   ]
  },
  {
   "cell_type": "code",
   "execution_count": null,
   "id": "326ff09c-5f58-44ea-a6df-aab60607fe6c",
   "metadata": {},
   "outputs": [],
   "source": [
    "class Repository(ABC):\n",
    "    def __init__(self, logger: Logger):\n",
    "        self.logger = logger\n",
    "\n",
    "    @abstractmethod\n",
    "    def store_records(self, records: List[TradeRecord]) -> None:\n",
    "        pass"
   ]
  },
  {
   "cell_type": "code",
   "execution_count": null,
   "id": "3bc12550-c354-4300-a985-d5c7633ca0e7",
   "metadata": {},
   "outputs": [],
   "source": [
    "class Reader(ABC):\n",
    "    @abstractmethod\n",
    "    def read_data(self) -> List[str]:\n",
    "        pass"
   ]
  },
  {
   "cell_type": "markdown",
   "id": "ec68d1a2-854c-4ada-8ce3-0d754c388802",
   "metadata": {},
   "source": [
    "## Implementations"
   ]
  },
  {
   "cell_type": "code",
   "execution_count": null,
   "id": "cec95981-e9e4-4332-aadd-971e2c0785f8",
   "metadata": {},
   "outputs": [],
   "source": [
    "class ConsoleLogger(Logger):\n",
    "    def log(self, message):\n",
    "        print(message)"
   ]
  },
  {
   "cell_type": "code",
   "execution_count": null,
   "id": "876263e0-513e-4a7c-a4cd-0e2ece63f3e7",
   "metadata": {},
   "outputs": [],
   "source": [
    "class FileReader(Reader):\n",
    "    def __init__(self, filename):\n",
    "        self.filename = filename\n",
    "        \n",
    "    def read_data(self):\n",
    "        trade_records: List[str] = []\n",
    "        with open(self.filename) as data_source:\n",
    "            for trade_record in data_source: \n",
    "                trade_records.append(trade_record.rstrip())\n",
    "        return trade_records"
   ]
  },
  {
   "cell_type": "code",
   "execution_count": null,
   "id": "35958a4a-f028-4efd-8773-ce6b98a251d5",
   "metadata": {},
   "outputs": [],
   "source": [
    "class CommaParser(Parser):\n",
    "    def __init__(self, validator: Validator, mapper: Mapper):\n",
    "        Parser.__init__(self, validator, mapper)\n",
    "\n",
    "    def parse(self, record: str)-> List[str]:\n",
    "        return record.split(',')"
   ]
  },
  {
   "cell_type": "code",
   "execution_count": null,
   "id": "9e5809db-a2ee-48f3-a064-813906353519",
   "metadata": {},
   "outputs": [],
   "source": [
    "class PostgresRepo(Repository):\n",
    "    def __init__(self, logger: Logger, cnn_string: str):\n",
    "        self.cnn_string = cnn_string\n",
    "        Repository.__init__(self, logger)\n",
    "\n",
    "    def store_records(self, records: List[TradeRecord]) -> None:\n",
    "        engine = create_engine(self.cnn_string)\n",
    "        Session = sessionmaker(bind=engine)\n",
    "        Base.metadata.create_all(engine)\n",
    "        session = Session()\n",
    "        for trade in records:\n",
    "            session.add(trade)\n",
    "        session.commit()\n",
    "        session.close()\n",
    "        self.logger.log(f'{len(records)} records have saved')"
   ]
  },
  {
   "cell_type": "code",
   "execution_count": null,
   "id": "0c9f0e68-9840-4df4-b75f-a76eed1bfdd0",
   "metadata": {},
   "outputs": [],
   "source": [
    "class TradeRecordMapper(Mapper):\n",
    "    def map(self, processed_record: List[str]) -> TradeRecord:\n",
    "        in_curr = slice(0, 3);\n",
    "        out_curr = slice(3, None)\n",
    "        source_curr_code = processed_record[0][in_curr]\n",
    "        dest_curr_code = processed_record[0][out_curr]\n",
    "        trade_amount = int(processed_record[1])\n",
    "        trade_price = float(processed_record[2])\n",
    "        trade_record = TradeRecord(source_curr_code, dest_curr_code,trade_amount, trade_price)\n",
    "        return trade_record"
   ]
  },
  {
   "cell_type": "code",
   "execution_count": null,
   "id": "14c9a3d0-fe68-4113-932a-792743ca5a70",
   "metadata": {},
   "outputs": [],
   "source": [
    "class SimpleValidator(Validator):\n",
    "    def __init__(self, logger: Logger):\n",
    "        Validator.__init__(self, logger) #dependecy\n",
    "        \n",
    "    def validate(self, record: List[str], index: int) -> bool:\n",
    "        if len(record) != 3:\n",
    "            self.logger.log(f'Line {index} malformed. Only {len(record)} field(s) found.')\n",
    "            return False\n",
    "        if len(record[0]) != 6:\n",
    "            self.logger.log(f'Trade currencies on line {index} malformed: {record[0]}')\n",
    "            return False\n",
    "        try:\n",
    "            trade_amount = float(record[1])\n",
    "        except ValueError:\n",
    "            self.logger.log(f\"Trade amount on line {index} not a valid integer: '{record[1]}'\")\n",
    "            return False\n",
    "        try:\n",
    "            trade_price = float(record[2])\n",
    "        except ValueError:\n",
    "            self.logger.log(f'Trade price on line {index} not a valid decimal:{record[2]}')\n",
    "            return False\n",
    "        return True"
   ]
  },
  {
   "cell_type": "code",
   "execution_count": null,
   "id": "f4b4251d-e8f9-4042-89fb-460455c95f44",
   "metadata": {},
   "outputs": [],
   "source": [
    "class TradeProcessor:\n",
    "    def __init__(self,reader: Reader, parser: Parser, repo: Repository) -> None:\n",
    "        self.reader = reader\n",
    "        self.parser = parser\n",
    "        self.repo = repo\n",
    "\n",
    "    def process_trades(self):\n",
    "        lines = self.reader.read_data()\n",
    "        trades = self.parser.parse_trades(lines)\n",
    "        self.repo.store_records(trades)"
   ]
  },
  {
   "cell_type": "markdown",
   "id": "e5e635e3-41aa-448e-96b4-a551bf954f5b",
   "metadata": {},
   "source": [
    "Initialize TradeProcessor"
   ]
  },
  {
   "cell_type": "code",
   "execution_count": null,
   "id": "7f3fd26b-0eb8-4c07-9a02-9e6291b37118",
   "metadata": {},
   "outputs": [],
   "source": [
    "logger = ConsoleLogger()\n",
    "reader = FileReader('Data.txt')\n",
    "mapper = TradeRecordMapper()\n",
    "\n",
    "validator = SimpleValidator(logger)\n",
    "parser = CommaParser(validator, mapper)\n",
    "repo = PostgresRepo(logger, 'postgresql://postgres:u2402/501@localhost:5432/python')\n",
    "\n",
    "trade_processor = TradeProcessor(reader, parser, repo)\n",
    "trade_processor.process_trades()"
   ]
  }
 ],
 "metadata": {
  "kernelspec": {
   "display_name": "Python 3",
   "language": "python",
   "name": "python3"
  },
  "language_info": {
   "codemirror_mode": {
    "name": "ipython",
    "version": 3
   },
   "file_extension": ".py",
   "mimetype": "text/x-python",
   "name": "python",
   "nbconvert_exporter": "python",
   "pygments_lexer": "ipython3",
   "version": "3.8.8"
  },
  "toc-autonumbering": false,
  "toc-showcode": true,
  "toc-showmarkdowntxt": false
 },
 "nbformat": 4,
 "nbformat_minor": 5
}
