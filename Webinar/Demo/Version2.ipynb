{
 "cells": [
  {
   "cell_type": "code",
   "execution_count": 1,
   "id": "cc126071-a850-4753-8182-73cdc884a613",
   "metadata": {},
   "outputs": [],
   "source": [
    "from typing import List\n",
    "from abc import ABC, abstractmethod\n",
    "from sqlalchemy import create_engine, Column, Integer, String, Float\n",
    "from sqlalchemy.ext.declarative import declarative_base\n",
    "from sqlalchemy.orm import sessionmaker\n",
    "Base = declarative_base()\n",
    "\n",
    "\n",
    "class TradeRecord(Base):\n",
    "    __tablename__ = 'TradeRecord'\n",
    "    id = Column(Integer, primary_key=True)\n",
    "    source_currency = Column(String)\n",
    "    dest_currency = Column(String)\n",
    "    amount = Column(Integer)\n",
    "    price = Column(Float)\n",
    "\n",
    "    def __init__(self, source, dest, amount, price):\n",
    "        self.source_currency = source\n",
    "        self.dest_currency = dest\n",
    "        self.amount = amount\n",
    "        self.price = price\n",
    "        \n",
    "    def __str__(self):\n",
    "        return f'{self.source_currency}, {self.dest_currency}, {self.amount}, {self.price}'\n",
    "    "
   ]
  },
  {
   "cell_type": "code",
   "execution_count": 4,
   "id": "93a2797e-8667-4962-9abc-2dac809cd874",
   "metadata": {},
   "outputs": [],
   "source": [
    "class TradeProcessor:\n",
    "    def __init__(self, filename):\n",
    "        self.filename = filename\n",
    "\n",
    "    def _log_message(self, message: str) -> None:\n",
    "        print(message)\n",
    "\n",
    "    def process_trades(self) -> None:\n",
    "        raw_records = self._read_records()\n",
    "        parsed_records = self._parse_records(raw_records)\n",
    "        self._store_records(parsed_records)\n",
    "\n",
    "    def _read_records(self) -> List[str]:\n",
    "        trade_records: List[str] = []\n",
    "        with open(self.filename) as data_source:\n",
    "            for trade_record in data_source:\n",
    "                trade_records.append(trade_record)\n",
    "        return trade_records\n",
    "\n",
    "    def _parse_records(self, trade_data: List[str]) -> List[TradeRecord]:\n",
    "        trades = []\n",
    "        for index, line in enumerate(trade_data):\n",
    "            fields = line.split(',')\n",
    "            if not self._validate_trade_data(fields, index + 1):\n",
    "                continue\n",
    "            trade = self._map_record_to_object(fields)\n",
    "            trades.append(trade)\n",
    "        return trades\n",
    "\n",
    "    def _map_record_to_object(self, processed_record: List[str]) -> TradeRecord:\n",
    "        in_curr = slice(0, 3);\n",
    "        out_curr = slice(3, None)\n",
    "        source_curr_code = processed_record[0][in_curr]\n",
    "        dest_curr_code = processed_record[0][out_curr]\n",
    "        trade_amount = int(processed_record[1])\n",
    "        trade_price = float(processed_record[2])\n",
    "        trade_record = TradeRecord(source_curr_code, dest_curr_code,trade_amount, trade_price)\n",
    "        return trade_record\n",
    "\n",
    "    def _store_records(self, trades: List[TradeRecord]) -> None:\n",
    "        engine = create_engine('postgresql://postgres:u2402/501@localhost:5432/python')\n",
    "        Session = sessionmaker(bind=engine)\n",
    "        Base.metadata.create_all(engine)\n",
    "        session = Session()\n",
    "        for trade in trades:\n",
    "            session.add(trade)\n",
    "        session.commit()\n",
    "        session.close()\n",
    "        self._log_message(f'{len(trades)} records have saved')\n",
    "\n",
    "    def _validate_trade_data(self, record: List[str], index: int) -> bool:\n",
    "        if len(record) != 3:\n",
    "            self._log_message(f'Line {index} malformed. Only {len(record)} field(s) found.')\n",
    "            return False\n",
    "        if len(record[0]) != 6:\n",
    "            self._log_message(f'Trade currencies on line {index} malformed: {record[0]}')\n",
    "            return False\n",
    "        try:\n",
    "            trade_amount = float(record[1])\n",
    "        except ValueError:\n",
    "            self._log_message(f\"Trade amount on line {index} not a valid integer: '{record[1]}'\")\n",
    "            return False\n",
    "        try:\n",
    "            trade_price = float(record[2])\n",
    "        except ValueError:\n",
    "            self._log_message(f'Trade price on line {index} not a valid decimal:{record[2]}')\n",
    "            return False\n",
    "        return True"
   ]
  },
  {
   "cell_type": "code",
   "execution_count": 5,
   "id": "92244455-55ea-43b3-a3a1-01a05378e83c",
   "metadata": {},
   "outputs": [
    {
     "name": "stdout",
     "output_type": "stream",
     "text": [
      "Trade currencies on line 4 malformed: UIYUY\n",
      "3 records have saved\n"
     ]
    }
   ],
   "source": [
    "trade_processor = TradeProcessor('Data.txt')\n",
    "trade_processor.process_trades()"
   ]
  },
  {
   "cell_type": "code",
   "execution_count": null,
   "id": "59184dd0-6a8a-4b80-9b9e-f8edd0eff881",
   "metadata": {},
   "outputs": [],
   "source": []
  }
 ],
 "metadata": {
  "kernelspec": {
   "display_name": "Python 3",
   "language": "python",
   "name": "python3"
  },
  "language_info": {
   "codemirror_mode": {
    "name": "ipython",
    "version": 3
   },
   "file_extension": ".py",
   "mimetype": "text/x-python",
   "name": "python",
   "nbconvert_exporter": "python",
   "pygments_lexer": "ipython3",
   "version": "3.8.8"
  }
 },
 "nbformat": 4,
 "nbformat_minor": 5
}
