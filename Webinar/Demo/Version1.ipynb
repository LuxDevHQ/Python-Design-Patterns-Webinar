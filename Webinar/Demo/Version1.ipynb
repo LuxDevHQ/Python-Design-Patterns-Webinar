{
 "cells": [
  {
   "cell_type": "code",
   "execution_count": 1,
   "id": "0fa6d0a6-2737-4744-87a6-7d42b7ae315f",
   "metadata": {},
   "outputs": [],
   "source": [
    "from typing import List\n",
    "from abc import ABC, abstractmethod\n",
    "from sqlalchemy import create_engine, Column, Integer, String, Float\n",
    "from sqlalchemy.ext.declarative import declarative_base\n",
    "from sqlalchemy.orm import sessionmaker\n",
    "Base = declarative_base()\n",
    "\n",
    "\n",
    "class TradeRecord(Base):\n",
    "    __tablename__ = 'TradeRecord'\n",
    "    id = Column(Integer, primary_key=True)\n",
    "    source_currency = Column(String)\n",
    "    dest_currency = Column(String)\n",
    "    amount = Column(Integer)\n",
    "    price = Column(Float)\n",
    "\n",
    "    def __init__(self, source, dest, amount, price):\n",
    "        self.source_currency = source\n",
    "        self.dest_currency = dest\n",
    "        self.amount = amount\n",
    "        self.price = price\n",
    "        \n",
    "    def __str__(self):\n",
    "        return f'{self.source_currency}, {self.dest_currency}, {self.amount}, {self.price}'\n",
    "    "
   ]
  },
  {
   "cell_type": "code",
   "execution_count": 2,
   "id": "eba8432f-b988-4899-b0f6-61d422320514",
   "metadata": {
    "jupyter": {
     "source_hidden": true
    },
    "tags": []
   },
   "outputs": [],
   "source": [
    "class TradeProcessor:\n",
    "    '''Class for processing trade records'''\n",
    "    def __init__(self, filename: str) -> None:\n",
    "        self.filename = filename\n",
    "        \n",
    "    def process_trades(self):\n",
    "        '''read records from the file, process them \n",
    "        and store them to a database.'''\n",
    "        \n",
    "        #read file\n",
    "        trade_records: List[str] = []\n",
    "        with open(self.filename) as data_source:\n",
    "            for trade_record in data_source: \n",
    "                trade_records.append(trade_record)\n",
    "                \n",
    "        #parse and validate the individual records\n",
    "        trades: List[TradeRecord] = []\n",
    "        for index, line in enumerate(trade_records):\n",
    "            fields = line.split(',')\n",
    "            if len(fields) != 3:\n",
    "                print(f'Line {index} malformed. {len(fields)} field(s) found.')\n",
    "                continue\n",
    "            if len(fields[0]) != 6:\n",
    "                print(f'Trade currencies on line {index} malformed: \"{fields[0]}\"')\n",
    "                continue\n",
    "            try:\n",
    "                trade_amount = float(fields[1])\n",
    "            except ValueError:\n",
    "                print(f\"Trade amount on line {index} not a valid integer: '{fields[1]}'\")\n",
    "            \n",
    "            try:\n",
    "                trade_price = float(fields[2])\n",
    "            except ValueError:\n",
    "                print(f\"Trade price on line {index} not a valid decimal:'{fields[2]}'\")\n",
    "\n",
    "            #map validated records to domain objects\n",
    "            sourceCurrencyCode = fields[0][:3]\n",
    "            destinationCurrencyCode = fields[0][3:]\n",
    "            trade = TradeRecord(source=sourceCurrencyCode, dest=destinationCurrencyCode,\n",
    "                                amount=trade_amount, price=trade_price)\n",
    "            trades.append(trade)\n",
    "            \n",
    "        #store the records to the database\n",
    "        engine = create_engine('postgresql://postgres:u2402/501@localhost:5432/python')\n",
    "        Session = sessionmaker(bind=engine)\n",
    "        Base.metadata.create_all(engine)\n",
    "        session = Session()\n",
    "        for trade in trades:\n",
    "            session.add(trade)\n",
    "        session.commit()\n",
    "        session.close()\n",
    "        print(f'{len(trades)} records have saved')"
   ]
  },
  {
   "cell_type": "code",
   "execution_count": 3,
   "id": "f092f95d-1cec-4bf1-90f3-77f7d5329a63",
   "metadata": {},
   "outputs": [
    {
     "name": "stdout",
     "output_type": "stream",
     "text": [
      "Trade currencies on line 3 malformed: \"UIYUY\"\n",
      "3 records have saved\n"
     ]
    }
   ],
   "source": [
    "trade_processor = TradeProcessor('Data.txt')\n",
    "trade_processor.process_trades()"
   ]
  },
  {
   "cell_type": "code",
   "execution_count": null,
   "id": "3f8e8c20-8247-4a9e-96dd-1d4513a2bd84",
   "metadata": {},
   "outputs": [],
   "source": []
  }
 ],
 "metadata": {
  "kernelspec": {
   "display_name": "Python 3",
   "language": "python",
   "name": "python3"
  },
  "language_info": {
   "codemirror_mode": {
    "name": "ipython",
    "version": 3
   },
   "file_extension": ".py",
   "mimetype": "text/x-python",
   "name": "python",
   "nbconvert_exporter": "python",
   "pygments_lexer": "ipython3",
   "version": "3.8.8"
  }
 },
 "nbformat": 4,
 "nbformat_minor": 5
}
