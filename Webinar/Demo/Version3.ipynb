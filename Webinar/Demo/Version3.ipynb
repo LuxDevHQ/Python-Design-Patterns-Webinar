{
 "cells": [
  {
   "cell_type": "code",
   "execution_count": 19,
   "id": "00f86e60-e6f9-437f-bef5-a30df7053ce0",
   "metadata": {},
   "outputs": [],
   "source": [
    "from typing import List\n",
    "from abc import ABC, abstractmethod\n",
    "from sqlalchemy import create_engine, Column, Integer, String, Float\n",
    "from sqlalchemy.ext.declarative import declarative_base\n",
    "from sqlalchemy.orm import sessionmaker\n",
    "Base = declarative_base()"
   ]
  },
  {
   "cell_type": "code",
   "execution_count": 20,
   "id": "429efce6-80ac-4802-bd91-9fc53ba77ce7",
   "metadata": {},
   "outputs": [],
   "source": [
    "class TradeRecord(Base):\n",
    "    __tablename__ = 'TradeRecord'\n",
    "    id = Column(Integer, primary_key=True)\n",
    "    source_currency = Column(String)\n",
    "    dest_currency = Column(String)\n",
    "    amount = Column(Integer)\n",
    "    price = Column(Float)\n",
    "\n",
    "    def __init__(self, source, dest, amount, price):\n",
    "        self.source_currency = source\n",
    "        self.dest_currency = dest\n",
    "        self.amount = amount\n",
    "        self.price = price\n",
    "        \n",
    "    def __str__(self):\n",
    "        return f'{self.source_currency}, {self.dest_currency}, {self.amount}, {self.price}'"
   ]
  },
  {
   "cell_type": "code",
   "execution_count": 21,
   "id": "46147815-8a9c-42fd-82dd-16c925e32d84",
   "metadata": {},
   "outputs": [],
   "source": [
    "class Logger:\n",
    "    def log_message(self, message):\n",
    "        print(message)"
   ]
  },
  {
   "cell_type": "code",
   "execution_count": 22,
   "id": "a2abb210-7c28-4ba6-a425-657176589cc4",
   "metadata": {},
   "outputs": [],
   "source": [
    "class Reader:\n",
    "    def __init__(self, filename):\n",
    "        self.filename = filename\n",
    "        \n",
    "    def read_records(self) -> List[str]:\n",
    "        trade_records: List[str] = []\n",
    "        with open(self.filename) as data_source:\n",
    "            for trade_record in data_source: \n",
    "                trade_records.append(trade_record)\n",
    "        return trade_records"
   ]
  },
  {
   "cell_type": "code",
   "execution_count": 23,
   "id": "5a35d428-4b5c-4b27-9eb1-8cf373385093",
   "metadata": {},
   "outputs": [],
   "source": [
    "class Repository:\n",
    "    def __init__(self):\n",
    "        self.logger = Logger() #dependecy\n",
    "        \n",
    "    def store_records(self, trades: List[TradeRecord]) -> None:\n",
    "        engine = create_engine('postgresql://postgres:u2402/501@localhost:5432/python')\n",
    "        Session = sessionmaker(bind=engine)\n",
    "        Base.metadata.create_all(engine)\n",
    "        session = Session()\n",
    "        for trade in trades:\n",
    "            session.add(trade)\n",
    "        session.commit()\n",
    "        session.close()\n",
    "        self.logger.log_message(f'{len(trades)} records have saved')"
   ]
  },
  {
   "cell_type": "code",
   "execution_count": 24,
   "id": "e73c62a8-e0f0-4c49-9b8e-c8512d0a0af0",
   "metadata": {},
   "outputs": [],
   "source": [
    " class Validator:\n",
    "    def __init__(self):\n",
    "        self.logger = Logger() #dependecy\n",
    "        \n",
    "    def validate_trade_data(self, record: List[str], index: int) -> bool:\n",
    "        if len(record) != 3:\n",
    "            self.logger.log_message(f'Line {index} malformed. Only {len(record)} field(s) found.')\n",
    "            return False\n",
    "        if len(record[0]) != 6:\n",
    "            self.logger.log_message(f'Trade currencies on line {index} malformed: {record[0]}')\n",
    "            return False\n",
    "        try:\n",
    "            trade_amount = float(record[1])\n",
    "        except ValueError:\n",
    "            self.logger.log_message(f\"Trade amount on line {index} not a valid integer: '{record[1]}'\")\n",
    "            return False\n",
    "        try:\n",
    "            trade_price = float(record[2])\n",
    "        except ValueError:\n",
    "            self.logger.log_message(f'Trade price on line {index} not a valid decimal:{record[2]}')\n",
    "            return False\n",
    "        return True"
   ]
  },
  {
   "cell_type": "code",
   "execution_count": 25,
   "id": "41bb6d07-050c-47b1-8e9f-a770eb50b65e",
   "metadata": {},
   "outputs": [],
   "source": [
    "class Mapper:\n",
    "    def map_record_to_object(self, processed_record: List[str]) -> TradeRecord:\n",
    "        in_curr = slice(0, 3);\n",
    "        out_curr = slice(3, None)\n",
    "        source_curr_code = processed_record[0][in_curr]\n",
    "        dest_curr_code = processed_record[0][out_curr]\n",
    "        trade_amount = int(processed_record[1])\n",
    "        trade_price = float(processed_record[2])\n",
    "        trade_record = TradeRecord(source_curr_code, dest_curr_code,trade_amount, trade_price)\n",
    "        return trade_record"
   ]
  },
  {
   "cell_type": "code",
   "execution_count": 26,
   "id": "5b1836ca-5ff4-4102-8295-70ed48e875c1",
   "metadata": {},
   "outputs": [],
   "source": [
    "class Parser:\n",
    "    def __init__(self):\n",
    "        self.validator = Validator() #dependecy\n",
    "        self.mapper = Mapper() #dependecy\n",
    "        \n",
    "    def parse_trades(self, trade_data: List[str]) -> List[str]:\n",
    "        trades = []\n",
    "        for index, line in enumerate(trade_data):\n",
    "            fields = line.split(',')\n",
    "            if not self.validator.validate_trade_data(fields, index + 1):\n",
    "                continue\n",
    "            trade = self.mapper.map_record_to_object(fields)\n",
    "            trades.append(trade)\n",
    "        return trades"
   ]
  },
  {
   "cell_type": "code",
   "execution_count": 27,
   "id": "17d9b044-fb37-4878-b392-da0f7e081c48",
   "metadata": {},
   "outputs": [],
   "source": [
    "class TradeProcessor:\n",
    "    def __init__(self, filename) -> None:\n",
    "        self.reader = Reader(filename) #dependecy\n",
    "        self.parser = Parser() #dependecy\n",
    "        self.repo = Repository() #dependecy\n",
    "\n",
    "    def process_trades(self):\n",
    "        records = self.reader.read_records()\n",
    "        parsed_records = self.parser.parse_trades(records)\n",
    "        self.repo.store_records(parsed_records)"
   ]
  },
  {
   "cell_type": "code",
   "execution_count": 28,
   "id": "ee098978-c938-4337-9225-d947dcb91198",
   "metadata": {},
   "outputs": [
    {
     "name": "stdout",
     "output_type": "stream",
     "text": [
      "Trade currencies on line 4 malformed: UIYUY\n",
      "3 records have saved\n"
     ]
    }
   ],
   "source": [
    "trade_processor = TradeProcessor('Data.txt')\n",
    "trade_processor.process_trades()"
   ]
  }
 ],
 "metadata": {
  "kernelspec": {
   "display_name": "Python 3",
   "language": "python",
   "name": "python3"
  },
  "language_info": {
   "codemirror_mode": {
    "name": "ipython",
    "version": 3
   },
   "file_extension": ".py",
   "mimetype": "text/x-python",
   "name": "python",
   "nbconvert_exporter": "python",
   "pygments_lexer": "ipython3",
   "version": "3.8.8"
  }
 },
 "nbformat": 4,
 "nbformat_minor": 5
}
